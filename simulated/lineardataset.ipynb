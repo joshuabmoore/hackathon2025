{
 "cells": [
  {
   "cell_type": "code",
   "execution_count": 1,
   "metadata": {},
   "outputs": [],
   "source": [
    "import numpy as np"
   ]
  },
  {
   "cell_type": "code",
   "execution_count": 2,
   "metadata": {},
   "outputs": [],
   "source": [
    "A = np.zeros((50, 1000))\n",
    "B = np.zeros((50, 1000))\n",
    "\n",
    "A[:, 0] = np.random.normal(0, 1, 50)\n",
    "B[:, 0] = np.random.normal(0, 1, 50)\n",
    "\n",
    "for i in range(1, 1000):\n",
    "    A[:, i] = (A[:,i - 1] * 0.3 + np.random.normal(0, 1))\n",
    "    B[:, i] = (B[:, i - 1] * -0.3 + np.random.normal(0, 1))\n",
    "\n",
    "f = open(\"linear1.csv\", \"w\")\n",
    "\n",
    "for i in range(0, 50):\n",
    "    print(\"1,\" + \",\".join(A[i, :].astype(str)), file=f)\n",
    "\n",
    "for i in range(0, 50):\n",
    "    print(\"2,\" + \",\".join(A[i, :].astype(str)), file=f)"
   ]
  },
  {
   "cell_type": "code",
   "execution_count": 3,
   "metadata": {},
   "outputs": [],
   "source": [
    "A = np.zeros((50, 1000))\n",
    "B = np.zeros((50, 1000))\n",
    "\n",
    "A[:, 0] = np.random.normal(0, 1, 50)\n",
    "B[:, 0] = np.random.normal(0, 1, 50)\n",
    "\n",
    "for i in range(1, 1000):\n",
    "    A[:, i] = (A[:,i - 1] * 0.1 + np.random.normal(0, 1))\n",
    "    B[:, i] = (B[:, i - 1] * -0.1 + np.random.normal(0, 1))\n",
    "\n",
    "f = open(\"linear2.csv\", \"w\")\n",
    "\n",
    "for i in range(0, 50):\n",
    "    print(\"1,\" + \",\".join(A[i, :].astype(str)), file=f)\n",
    "\n",
    "for i in range(0, 50):\n",
    "    print(\"2,\" + \",\".join(A[i, :].astype(str)), file=f)"
   ]
  },
  {
   "cell_type": "code",
   "execution_count": 4,
   "metadata": {},
   "outputs": [],
   "source": [
    "A = np.zeros((50, 1000))\n",
    "B = np.zeros((50, 1000))\n",
    "\n",
    "A[:, 0] = np.random.normal(0, 1, 50)\n",
    "B[:, 0] = np.random.normal(0, 1, 50)\n",
    "\n",
    "for i in range(1, 1000):\n",
    "    A[:, i] = (A[:,i - 1] * 0.9 + np.random.normal(0, 1))\n",
    "    B[:, i] = (B[:, i - 1] * 0.8 + np.random.normal(0, 1))\n",
    "\n",
    "f = open(\"linear3.csv\", \"w\")\n",
    "\n",
    "for i in range(0, 50):\n",
    "    print(\"1,\" + \",\".join(A[i, :].astype(str)), file=f)\n",
    "\n",
    "for i in range(0, 50):\n",
    "    print(\"2,\" + \",\".join(A[i, :].astype(str)), file=f)"
   ]
  },
  {
   "cell_type": "markdown",
   "metadata": {},
   "source": []
  }
 ],
 "metadata": {
  "kernelspec": {
   "display_name": "ssp",
   "language": "python",
   "name": "python3"
  },
  "language_info": {
   "codemirror_mode": {
    "name": "ipython",
    "version": 3
   },
   "file_extension": ".py",
   "mimetype": "text/x-python",
   "name": "python",
   "nbconvert_exporter": "python",
   "pygments_lexer": "ipython3",
   "version": "3.9.19"
  }
 },
 "nbformat": 4,
 "nbformat_minor": 2
}
