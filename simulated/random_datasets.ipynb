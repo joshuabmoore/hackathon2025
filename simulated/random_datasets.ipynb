{
 "cells": [
  {
   "cell_type": "code",
   "execution_count": 5,
   "metadata": {},
   "outputs": [],
   "source": [
    "import numpy as np\n",
    "import matplotlib.pyplot as plt\n",
    "from scipy.stats import skewcauchy"
   ]
  },
  {
   "cell_type": "code",
   "execution_count": 6,
   "metadata": {},
   "outputs": [],
   "source": [
    "length = 1000"
   ]
  },
  {
   "cell_type": "code",
   "execution_count": 7,
   "metadata": {},
   "outputs": [],
   "source": [
    "A = np.zeros((50, length))\n",
    "B = np.zeros_like(A)\n",
    "\n",
    "#A will have mean 0 and std 1, B will have mean 0 and std 2\n",
    "np.random.seed(0)\n",
    "for i in range(0,50):\n",
    "    A[i, :] = np.random.normal(0, 1, length)\n",
    "    B[i, :] = np.random.normal(0, 2, length)\n",
    "\n",
    "\n",
    "f = open(\"gaussian1.csv\", \"w\")\n",
    "\n",
    "for i in range(0, 50):\n",
    "    print(\"1,\" + \",\".join(A[i, :].astype(str)), file=f)\n",
    "\n",
    "for i in range(0, 50):\n",
    "    print(\"2,\" + \",\".join(A[i, :].astype(str)), file=f)\n"
   ]
  },
  {
   "cell_type": "code",
   "execution_count": 8,
   "metadata": {},
   "outputs": [],
   "source": [
    "A = np.zeros((50, length))\n",
    "B = np.zeros_like(A)\n",
    "\n",
    "np.random.seed(0)\n",
    "for i in range(0,50):\n",
    "    A[i, :] = np.random.normal(-0.5, 1, length)\n",
    "    B[i, :] = np.random.normal(1, 1, length)\n",
    "\n",
    "f = open(\"gaussian2.csv\", \"w\")\n",
    "\n",
    "for i in range(0, 50):\n",
    "    print(\"1,\" + \",\".join(A[i, :].astype(str)), file=f)\n",
    "\n",
    "for i in range(0, 50):\n",
    "    print(\"2,\" + \",\".join(A[i, :].astype(str)), file=f)"
   ]
  },
  {
   "cell_type": "code",
   "execution_count": 9,
   "metadata": {},
   "outputs": [],
   "source": [
    "A = np.zeros((50, length))\n",
    "B = np.zeros_like(A)\n",
    "\n",
    "np.random.seed(0)\n",
    "for i in range(0,50):\n",
    "    A[i, :] = np.random.normal(-1, 1, length)\n",
    "    B[i, :] = np.random.normal(0.7, 2, length)\n",
    "\n",
    "f = open(\"gaussian3.csv\", \"w\")\n",
    "\n",
    "for i in range(0, 50):\n",
    "    print(\"1,\" + \",\".join(A[i, :].astype(str)), file=f)\n",
    "\n",
    "for i in range(0, 50):\n",
    "    print(\"2,\" + \",\".join(A[i, :].astype(str)), file=f)"
   ]
  },
  {
   "cell_type": "code",
   "execution_count": 10,
   "metadata": {},
   "outputs": [],
   "source": [
    "A = np.zeros((50, length))\n",
    "B = np.zeros_like(A)\n",
    "\n",
    "np.random.seed(0)\n",
    "for i in range(0,50):\n",
    "    A[i, :] = skewcauchy.rvs(0, loc=0, scale=1, size=length)\n",
    "    B[i, :] = skewcauchy.rvs(0, loc=1, scale=1, size=length)\n",
    "\n",
    "f = open(\"cauchy1.csv\", \"w\")\n",
    "\n",
    "for i in range(0, 50):\n",
    "    print(\"1,\" + \",\".join(A[i, :].astype(str)), file=f)\n",
    "\n",
    "for i in range(0, 50):\n",
    "    print(\"2,\" + \",\".join(A[i, :].astype(str)), file=f)"
   ]
  },
  {
   "cell_type": "code",
   "execution_count": 11,
   "metadata": {},
   "outputs": [],
   "source": [
    "A = np.zeros((50, length))\n",
    "B = np.zeros_like(A)\n",
    "\n",
    "np.random.seed(0)\n",
    "for i in range(0,50):\n",
    "    A[i, :] = skewcauchy.rvs(0, loc=0.4, scale=1, size=length)\n",
    "    B[i, :] = skewcauchy.rvs(0, loc=0.4, scale=0.5, size=length)\n",
    "\n",
    "f = open(\"cauchy2.csv\", \"w\")\n",
    "\n",
    "for i in range(0, 50):\n",
    "    print(\"1,\" + \",\".join(A[i, :].astype(str)), file=f)\n",
    "\n",
    "for i in range(0, 50):\n",
    "    print(\"2,\" + \",\".join(A[i, :].astype(str)), file=f)"
   ]
  },
  {
   "cell_type": "code",
   "execution_count": 12,
   "metadata": {},
   "outputs": [],
   "source": [
    "A = np.zeros((50, length))\n",
    "B = np.zeros_like(A)\n",
    "\n",
    "np.random.seed(0)\n",
    "for i in range(0,50):\n",
    "    A[i, :] = skewcauchy.rvs(0, loc=0.3, scale=1, size=length)\n",
    "    B[i, :] = skewcauchy.rvs(0.7, loc=0.3, scale=1, size=length)\n",
    "\n",
    "f = open(\"cauchy3.csv\", \"w\")\n",
    "\n",
    "for i in range(0, 50):\n",
    "    print(\"1,\" + \",\".join(A[i, :].astype(str)), file=f)\n",
    "\n",
    "for i in range(0, 50):\n",
    "    print(\"2,\" + \",\".join(A[i, :].astype(str)), file=f)"
   ]
  },
  {
   "cell_type": "code",
   "execution_count": 13,
   "metadata": {},
   "outputs": [],
   "source": [
    "A = np.zeros((50, length))\n",
    "B = np.zeros_like(A)\n",
    "\n",
    "np.random.seed(0)\n",
    "for i in range(0,50):\n",
    "    A[i, :] = skewcauchy.rvs(-0.6, loc=0, scale=1, size=length)\n",
    "    B[i, :] = skewcauchy.rvs(0.5, loc=0, scale=1, size=length)\n",
    "\n",
    "f = open(\"cauchy4.csv\", \"w\")\n",
    "\n",
    "for i in range(0, 50):\n",
    "    print(\"1,\" + \",\".join(A[i, :].astype(str)), file=f)\n",
    "\n",
    "for i in range(0, 50):\n",
    "    print(\"2,\" + \",\".join(A[i, :].astype(str)), file=f)"
   ]
  },
  {
   "cell_type": "code",
   "execution_count": 14,
   "metadata": {},
   "outputs": [],
   "source": [
    "A = np.zeros((50, length))\n",
    "B = np.zeros_like(A)\n",
    "\n",
    "np.random.seed(0)\n",
    "for i in range(0,50):\n",
    "    A[i, :] = skewcauchy.rvs(0, loc=0, scale=1, size=length)\n",
    "    B[i, :] = skewcauchy.rvs(0, loc=1, scale=2, size=length)\n",
    "\n",
    "f = open(\"cauchy5.csv\", \"w\")\n",
    "\n",
    "for i in range(0, 50):\n",
    "    print(\"1,\" + \",\".join(A[i, :].astype(str)), file=f)\n",
    "\n",
    "for i in range(0, 50):\n",
    "    print(\"2,\" + \",\".join(A[i, :].astype(str)), file=f)"
   ]
  },
  {
   "cell_type": "code",
   "execution_count": 15,
   "metadata": {},
   "outputs": [],
   "source": [
    "A = np.zeros((50, length))\n",
    "B = np.zeros_like(A)\n",
    "\n",
    "np.random.seed(0)\n",
    "for i in range(0,50):\n",
    "    A[i, :] = skewcauchy.rvs(0.6, loc=0, scale=1, size=length)\n",
    "    B[i, :] = skewcauchy.rvs(0, loc=1, scale=1, size=length)\n",
    "\n",
    "f = open(\"cauchy6.csv\", \"w\")\n",
    "\n",
    "for i in range(0, 50):\n",
    "    print(\"1,\" + \",\".join(A[i, :].astype(str)), file=f)\n",
    "\n",
    "for i in range(0, 50):\n",
    "    print(\"2,\" + \",\".join(A[i, :].astype(str)), file=f)"
   ]
  },
  {
   "cell_type": "code",
   "execution_count": 16,
   "metadata": {},
   "outputs": [],
   "source": [
    "A = np.zeros((50, length))\n",
    "B = np.zeros_like(A)\n",
    "\n",
    "np.random.seed(0)\n",
    "for i in range(0,50):\n",
    "    A[i, :] = skewcauchy.rvs(-0.3, loc=0, scale=1, size=length)\n",
    "    B[i, :] = skewcauchy.rvs(0, loc=1, scale=1.5, size=length)\n",
    "\n",
    "f = open(\"cauchy7.csv\", \"w\")\n",
    "\n",
    "for i in range(0, 50):\n",
    "    print(\"1,\" + \",\".join(A[i, :].astype(str)), file=f)\n",
    "\n",
    "for i in range(0, 50):\n",
    "    print(\"2,\" + \",\".join(A[i, :].astype(str)), file=f)"
   ]
  }
 ],
 "metadata": {
  "kernelspec": {
   "display_name": "ssp",
   "language": "python",
   "name": "python3"
  },
  "language_info": {
   "codemirror_mode": {
    "name": "ipython",
    "version": 3
   },
   "file_extension": ".py",
   "mimetype": "text/x-python",
   "name": "python",
   "nbconvert_exporter": "python",
   "pygments_lexer": "ipython3",
   "version": "3.11.4"
  }
 },
 "nbformat": 4,
 "nbformat_minor": 2
}
