{
 "cells": [
  {
   "cell_type": "code",
   "execution_count": 23,
   "metadata": {},
   "outputs": [],
   "source": [
    "from copy import deepcopy\n",
    "from glob import glob\n",
    "import os\n",
    "from os import path as op\n",
    "import numpy as np\n",
    "import pandas as pd\n",
    "import sys\n",
    "from sklearn import svm\n",
    "from sklearn.linear_model import LogisticRegression\n",
    "from sklearn.metrics import make_scorer, roc_auc_score, accuracy_score, balanced_accuracy_score\n",
    "from sklearn.model_selection import StratifiedGroupKFold, cross_validate, StratifiedKFold, LeaveOneOut, cross_val_predict\n",
    "from sklearn.pipeline import Pipeline\n",
    "from sklearn.preprocessing import StandardScaler\n",
    "from sklearn.utils import resample\n",
    "import itertools\n",
    "import argparse\n"
   ]
  },
  {
   "cell_type": "markdown",
   "metadata": {},
   "source": [
    "## Define classification parameters"
   ]
  },
  {
   "cell_type": "code",
   "execution_count": null,
   "metadata": {},
   "outputs": [],
   "source": [
    "\n",
    "# Define linear SVM classifier pipeline\n",
    "model = svm.SVC(C=1, class_weight='balanced', kernel='linear', random_state=127, probability=True)\n",
    "pipe = Pipeline([('scaler', StandardScaler()), \n",
    "                            ('model', model)])\n",
    "\n",
    "# Define scoring type\n",
    "scoring = {'accuracy': 'accuracy',\n",
    "           'balanced_accuracy': 'balanced_accuracy'}\n",
    "\n",
    "# Define ten-fold cross-validation splitter\n",
    "cv = StratifiedKFold(n_splits=10, shuffle=True, random_state=127)\n"
   ]
  },
  {
   "cell_type": "markdown",
   "metadata": {},
   "source": [
    "## Load data"
   ]
  },
  {
   "cell_type": "code",
   "execution_count": 24,
   "metadata": {},
   "outputs": [],
   "source": [
    "# Define current directory\n",
    "current_dir = os.getcwd()\n",
    "\n",
    "# Real time-series catch24 results\n",
    "real_TS_catch24_res_path = f\"{current_dir}/real/catch24_res/\"\n",
    "\n",
    "# Define problem list\n",
    "problem_list = [\"Beef\", \"DodgerLoopWeekend\", \"ECG5000\", \"GunPointOldVersusYoung\",\n",
    "                  \"InlineSkate\", \"InsectEPGRegularTrain\", \"ItalyPowerDemand\", \"PowerCons\",\n",
    "                  \"Wafer\"]\n"
   ]
  },
  {
   "cell_type": "markdown",
   "metadata": {},
   "source": [
    "## Run classification using linear SVM on real time series data with (1) FTM, mean + SD and (2) full catch24 feature set"
   ]
  },
  {
   "cell_type": "code",
   "execution_count": 30,
   "metadata": {},
   "outputs": [],
   "source": [
    "# Initialize lists for storing results\n",
    "classification_results_list = []\n",
    "\n",
    "# Read over each problem\n",
    "for problem in problem_list:\n",
    "    problem_catch24_res = pd.read_csv(f\"{real_TS_catch24_res_path}{problem}_catch24_res.csv\")\n",
    "\n",
    "    # Separate 'id' into sample ID and problem\n",
    "    problem_catch24_res[[\"sample_ID\", \"problem\"]] = problem_catch24_res[\"id\"].str.split(\"_\", expand=True)\n",
    "\n",
    "    # Drop 'id' column\n",
    "    problem_catch24_res.drop(columns=[\"id\"], inplace=True)\n",
    "\n",
    "\n",
    "    # Widen the dataframe\n",
    "    problem_catch24_res_wide = problem_catch24_res.pivot(index=[\"sample_ID\", \"group\"], columns=\"names\", values=\"values\")\n",
    "\n",
    "    # Extract just the values\n",
    "    problem_catch24_res_wide_values = problem_catch24_res_wide.values\n",
    "\n",
    "    # Also extract just the mean+SD features\n",
    "    problem_FTM_res_wise = problem_catch24_res_wide.filter(['DN_Spread_Std', 'DN_Mean'], axis=1)\n",
    "    problem_FTM_res_wide_values = problem_FTM_res_wise.values\n",
    "\n",
    "    # Extract the group labels\n",
    "    group_labels = problem_catch24_res_wide.index.get_level_values(\"group\").values\n",
    "\n",
    "    # Fit the pipeline with cv\n",
    "    cv_catch24_results = cross_validate(pipe, problem_catch24_res_wide_values, group_labels, cv=cv, scoring=scoring)\n",
    "    cv_FTM_results = cross_validate(pipe, problem_FTM_res_wide_values, group_labels, cv=cv, scoring=scoring)\n",
    "\n",
    "    # Save to dataframes\n",
    "    cv_catch24_results_df = pd.DataFrame({\"Problem\": problem,\n",
    "                                          \"Feature_Set\": \"catch24\",\n",
    "                                          \"Fold_Number\": np.arange(1, 11),\n",
    "                                          \"accuracy\": cv_catch24_results[\"test_accuracy\"],\n",
    "                                          \"balanced_accuracy\": cv_catch24_results[\"test_balanced_accuracy\"]})\n",
    "    cv_FTM_results_df = pd.DataFrame({\"Problem\": problem,\n",
    "                                        \"Feature_Set\": \"Mean_SD\",\n",
    "                                        \"Fold_Number\": np.arange(1, 11),\n",
    "                                        \"accuracy\": cv_FTM_results[\"test_accuracy\"],\n",
    "                                        \"balanced_accuracy\": cv_FTM_results[\"test_balanced_accuracy\"]})\n",
    "    \n",
    "    # Append to list\n",
    "    classification_results_list.append(cv_catch24_results_df)\n",
    "    classification_results_list.append(cv_FTM_results_df)\n",
    "\n",
    "all_real_TS_classification_results = pd.concat(classification_results_list)"
   ]
  },
  {
   "cell_type": "code",
   "execution_count": null,
   "metadata": {},
   "outputs": [],
   "source": [
    "# A"
   ]
  }
 ],
 "metadata": {
  "kernelspec": {
   "display_name": "annie_env",
   "language": "python",
   "name": "python3"
  },
  "language_info": {
   "codemirror_mode": {
    "name": "ipython",
    "version": 3
   },
   "file_extension": ".py",
   "mimetype": "text/x-python",
   "name": "python",
   "nbconvert_exporter": "python",
   "pygments_lexer": "ipython3",
   "version": "3.9.19"
  }
 },
 "nbformat": 4,
 "nbformat_minor": 2
}
