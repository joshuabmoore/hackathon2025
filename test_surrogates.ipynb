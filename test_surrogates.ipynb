{
 "cells": [
  {
   "cell_type": "code",
   "execution_count": 1,
   "metadata": {},
   "outputs": [],
   "source": [
    "# Load required libraries \n",
    "import pyunicorn.timeseries.surrogates as tsu\n",
    "import numpy as np\n",
    "import pandas as pd\n",
    "import pycatch22 as c22\n",
    "import os\n",
    "from sklearn import svm\n",
    "from sklearn.preprocessing import StandardScaler\n",
    "from sklearn.model_selection import cross_validate, StratifiedKFold\n",
    "from sklearn.pipeline import Pipeline"
   ]
  },
  {
   "cell_type": "code",
   "execution_count": 10,
   "metadata": {},
   "outputs": [],
   "source": [
    "def surrogate(x, tag, niters=20):\n",
    "    ts = x.reshape(1, len(x))\n",
    "    surr_in = tsu.Surrogates(ts)\n",
    "    if tag.lower() == \"shuffle\":\n",
    "        surr_out = surr_in.white_noise_surrogates()\n",
    "    elif tag.lower() == \"fft\":\n",
    "        surr_out = surr_in.correlated_noise_surrogates()\n",
    "    elif tag.lower() == \"iafft\":\n",
    "        surr_out = surr_in.refined_AAFT_surrogates(niters)\n",
    "\n",
    "    return surr_out"
   ]
  },
  {
   "cell_type": "code",
   "execution_count": 11,
   "metadata": {},
   "outputs": [
    {
     "name": "stdout",
     "output_type": "stream",
     "text": [
      "Generated an instance of the Surrogates class.\n"
     ]
    }
   ],
   "source": [
    "x = np.random.rand(500)\n",
    "ts = x.reshape(1, len(x))\n",
    "surr_in = tsu.Surrogates(ts)\n",
    "shuffled_x = surrogate(x, 'shuffle')"
   ]
  },
  {
   "cell_type": "code",
   "execution_count": 12,
   "metadata": {},
   "outputs": [
    {
     "name": "stdout",
     "output_type": "stream",
     "text": [
      "Generated an instance of the Surrogates class.\n",
      "Generating white noise surrogates by random shuffling...\n"
     ]
    }
   ],
   "source": []
  }
 ],
 "metadata": {
  "kernelspec": {
   "display_name": "annie_env",
   "language": "python",
   "name": "python3"
  },
  "language_info": {
   "codemirror_mode": {
    "name": "ipython",
    "version": 3
   },
   "file_extension": ".py",
   "mimetype": "text/x-python",
   "name": "python",
   "nbconvert_exporter": "python",
   "pygments_lexer": "ipython3",
   "version": "3.9.19"
  }
 },
 "nbformat": 4,
 "nbformat_minor": 2
}
