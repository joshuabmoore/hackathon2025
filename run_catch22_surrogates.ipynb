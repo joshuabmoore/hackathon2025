{
 "cells": [
  {
   "cell_type": "code",
   "execution_count": null,
   "metadata": {},
   "outputs": [],
   "source": []
  },
  {
   "cell_type": "code",
   "execution_count": null,
   "metadata": {},
   "outputs": [],
   "source": []
  },
  {
   "cell_type": "code",
   "execution_count": 1,
   "metadata": {},
   "outputs": [],
   "source": [
    "\n",
    "import pyunicorn.timeseries as ts\n",
    "import numpy as np\n",
    "import matplotlib.pyplot as plt\n",
    "import csv\n",
    "import random\n",
    "import scipy.signal as sig\n",
    "\n",
    "\n",
    "def surrogate(x, tag, niters=20):\n",
    "    surr = ts.surrogates.Surrogates(x)\n",
    "    if tag.lower() == \"shuffle\":\n",
    "        return surr.white_noise_surrogates()\n",
    "    elif tag.lower() == \"fft\":\n",
    "        return surr.correlated_noise_surrogates()\n",
    "    elif tag.lower() == \"iafft\":\n",
    "        return surr.refined_AAFT_surrogates(niters)\n",
    "\n",
    "\n"
   ]
  },
  {
   "cell_type": "code",
   "execution_count": 1,
   "metadata": {},
   "outputs": [
    {
     "ename": "NameError",
     "evalue": "name 'surrogate' is not defined",
     "output_type": "error",
     "traceback": [
      "\u001b[0;31m---------------------------------------------------------------------------\u001b[0m",
      "\u001b[0;31mNameError\u001b[0m                                 Traceback (most recent call last)",
      "Cell \u001b[0;32mIn[1], line 21\u001b[0m\n\u001b[1;32m     19\u001b[0m     methods \u001b[38;5;241m=\u001b[39m [\u001b[38;5;124m\"\u001b[39m\u001b[38;5;124mshuffle\u001b[39m\u001b[38;5;124m\"\u001b[39m, \u001b[38;5;124m\"\u001b[39m\u001b[38;5;124mfft\u001b[39m\u001b[38;5;124m\"\u001b[39m, \u001b[38;5;124m\"\u001b[39m\u001b[38;5;124miafft\u001b[39m\u001b[38;5;124m\"\u001b[39m]\n\u001b[1;32m     20\u001b[0m     \u001b[38;5;28;01mfor\u001b[39;00m method \u001b[38;5;129;01min\u001b[39;00m methods:\n\u001b[0;32m---> 21\u001b[0m         xs_surr \u001b[38;5;241m=\u001b[39m \u001b[43msurrogate\u001b[49m(xs, method)\n\u001b[1;32m     22\u001b[0m         F \u001b[38;5;241m=\u001b[39m c22\u001b[38;5;241m.\u001b[39mcatch22_all(xs_surr, catch24\u001b[38;5;241m=\u001b[39m\u001b[38;5;28;01mTrue\u001b[39;00m)\n\u001b[1;32m     26\u001b[0m \u001b[38;5;66;03m# * Select values in order of sorted timestamps\u001b[39;00m\n",
      "\u001b[0;31mNameError\u001b[0m: name 'surrogate' is not defined"
     ]
    }
   ],
   "source": [
    "import numpy as np\n",
    "import pandas as pd\n",
    "import pycatch22 as c22\n",
    "\n",
    "# * Loop over the dataset named xxx\n",
    "name = \"Beef\"\n",
    "# * Load preprocessed data matrix\n",
    "data = pd.read_csv(f\"real/preprocessed_TS/{name}_TS.csv\")\n",
    "data[\"shuffled\"] = 0\n",
    "data[\"fft\"] = 0\n",
    "data[\"iafft\"] = 0\n",
    "ids = data[\"id\"].unique()\n",
    "feature_data = pd.DataFrame()\n",
    "for i in ids:\n",
    "    x = data[data[\"id\"] == i]\n",
    "    x_sorted = x.sort_values(\"timepoint\")\n",
    "    xs = x_sorted[\"values\"].values\n",
    "    # * Generate surrogates. Assign assuming sorted time indices\n",
    "    methods = [\"shuffle\", \"fft\", \"iafft\"]\n",
    "    for method in methods:\n",
    "        xs_surr = surrogate(xs, method)\n",
    "        F = c22.catch22_all(xs_surr, catch24=True)\n",
    "        ....assign to feature_data dataframe\n",
    "\n",
    "\n",
    "# * Select values in order of sorted timestamps\n",
    "print(data)"
   ]
  }
 ],
 "metadata": {
  "kernelspec": {
   "display_name": ".conda",
   "language": "python",
   "name": "python3"
  },
  "language_info": {
   "codemirror_mode": {
    "name": "ipython",
    "version": 3
   },
   "file_extension": ".py",
   "mimetype": "text/x-python",
   "name": "python",
   "nbconvert_exporter": "python",
   "pygments_lexer": "ipython3",
   "version": "3.11.0"
  }
 },
 "nbformat": 4,
 "nbformat_minor": 2
}
